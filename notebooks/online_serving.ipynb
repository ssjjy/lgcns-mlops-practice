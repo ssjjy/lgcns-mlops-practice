{
 "cells": [
  {
   "cell_type": "code",
   "execution_count": 1,
   "metadata": {},
   "outputs": [],
   "source": [
    "import json\n",
    "\n",
    "import pandas as pd\n",
    "import requests"
   ]
  },
  {
   "cell_type": "code",
   "execution_count": 4,
   "metadata": {},
   "outputs": [],
   "source": [
    "new_data = pd.read_csv(\"../data/house_rent_new.csv\")\n",
    "actual = new_data[[\"id\", \"rent\"]].set_index(\"id\")[\"rent\"].to_dict()"
   ]
  },
  {
   "cell_type": "code",
   "execution_count": 5,
   "metadata": {},
   "outputs": [],
   "source": [
    "new_data = new_data.set_index(\"id\").drop([\"rent\"], axis=1)"
   ]
  },
  {
   "cell_type": "code",
   "execution_count": 6,
   "metadata": {},
   "outputs": [
    {
     "name": "stdout",
     "output_type": "stream",
     "text": [
      "Prediction for User 104bbcc1: 13112.06\tActual value: 17000\n",
      "Prediction for User ef8321ee: 13112.06\tActual value: 15000\n",
      "Prediction for User 798a64f7: 13753.63\tActual value: 18000\n",
      "Prediction for User b19dc177: 108248.06\tActual value: 80000\n",
      "Prediction for User 7c3e5ee4: 17305.89\tActual value: 12500\n",
      "Prediction for User b8d1c85a: 13736.53\tActual value: 12000\n",
      "Prediction for User ef632290: 65040.63\tActual value: 120000\n",
      "Prediction for User d30f79cf: 5612.46\tActual value: 4700\n",
      "Prediction for User 2fb16ae5: 22814.21\tActual value: 27000\n",
      "Prediction for User 3219b5be: 54052.93\tActual value: 100000\n"
     ]
    }
   ],
   "source": [
    "for i, row in new_data[:10].iterrows():\n",
    "    response = requests.post(\n",
    "        \"http://127.0.0.1:3000/predict\", data=json.dumps(row.to_dict())\n",
    "    )\n",
    "    prediction = response.json()[0]\n",
    "    response.close()\n",
    "\n",
    "    print(\n",
    "        f\"Prediction for User {i}: {prediction:.2f}\\t\"\n",
    "        f\"Actual value: {actual.get(i, 0)}\"\n",
    "    )"
   ]
  },
  {
   "cell_type": "code",
   "execution_count": null,
   "metadata": {},
   "outputs": [],
   "source": []
  }
 ],
 "metadata": {
  "kernelspec": {
   "display_name": "mlenv",
   "language": "python",
   "name": "python3"
  },
  "language_info": {
   "codemirror_mode": {
    "name": "ipython",
    "version": 3
   },
   "file_extension": ".py",
   "mimetype": "text/x-python",
   "name": "python",
   "nbconvert_exporter": "python",
   "pygments_lexer": "ipython3",
   "version": "3.9.16"
  },
  "orig_nbformat": 4
 },
 "nbformat": 4,
 "nbformat_minor": 2
}
